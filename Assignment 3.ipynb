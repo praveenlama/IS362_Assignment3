{
 "cells": [
  {
   "cell_type": "markdown",
   "metadata": {},
   "source": [
    "### Assignment- Week 3\n",
    "\n",
    "## Bicycle Odometer Reading\n",
    "\n",
    "Suppose you have ridden a bicycle from New York City to Key West, Florida.  Your bicycle odometer shows the total miles, which you have dutifully logged at the end of each day with paper and pencil.  Your first two entries might be 55 and 120, indicating that you rode your bike 55 miles on day 1 and 65 miles on day 2.  Your task is to create a pandas Series object that holds the cumulative miles at the end of each day, then use your Python skills to show the total miles that you rode each day."
   ]
  },
  {
   "cell_type": "markdown",
   "metadata": {},
   "source": [
    "_Based on Google Maps, it seems it will take 1600 miles to travel newyork city to key west, florida in biclycle. Lets create a daily odomoter log in dictionary_"
   ]
  },
  {
   "cell_type": "code",
   "execution_count": 2,
   "metadata": {},
   "outputs": [
    {
     "name": "stdout",
     "output_type": "stream",
     "text": [
      "{'Day 1': 55, 'Day 2': 120, 'Day 3': 180, 'Day 4': 250, 'Day 5': 315, 'Day 6': 375, 'Day 7': 445, 'Day 8': 495, 'Day 9': 560, 'Day 10': 630, 'Day 11': 695, 'Day 12': 755, 'Day 13': 810, 'Day 14': 870, 'Day 15': 935, 'Day 16': 995, 'Day 17': 1060, 'Day 18': 1115, 'Day 19': 1175, 'Day 20': 1240, 'Day 21': 1310, 'Day 22': 1365, 'Day 23': 1420, 'Day 24': 1490, 'Day 25': 1555, 'Day 26': 1620}\n"
     ]
    }
   ],
   "source": [
    "import pandas as pd\n",
    "\n",
    "# Creating Dictionary\n",
    "odometer={}\n",
    "odometer['Day 1'] = 55\n",
    "odometer['Day 2'] = 120\n",
    "odometer['Day 3'] = 180\n",
    "odometer['Day 4'] = 250\n",
    "odometer['Day 5'] = 315\n",
    "odometer['Day 6'] = 375\n",
    "odometer['Day 7'] = 445\n",
    "odometer['Day 8'] = 495\n",
    "odometer['Day 9'] = 560\n",
    "odometer['Day 10'] = 630\n",
    "odometer['Day 11'] = 695\n",
    "odometer['Day 12'] = 755\n",
    "odometer['Day 13'] = 810\n",
    "odometer['Day 14'] = 870\n",
    "odometer['Day 15'] = 935\n",
    "odometer['Day 16'] = 995\n",
    "odometer['Day 17'] = 1060\n",
    "odometer['Day 18'] = 1115\n",
    "odometer['Day 19'] = 1175\n",
    "odometer['Day 20'] = 1240\n",
    "odometer['Day 21'] = 1310\n",
    "odometer['Day 22'] = 1365\n",
    "odometer['Day 23'] = 1420\n",
    "odometer['Day 24'] = 1490\n",
    "odometer['Day 25'] = 1555\n",
    "odometer['Day 26'] = 1620\n",
    "print(odometer)"
   ]
  },
  {
   "cell_type": "markdown",
   "metadata": {},
   "source": [
    "_Based on the avobe data log we are going to calculate the miles ridden in the bicylcye each day_\n",
    "\n",
    "## Miles ridden in each day"
   ]
  },
  {
   "cell_type": "code",
   "execution_count": 5,
   "metadata": {},
   "outputs": [
    {
     "name": "stdout",
     "output_type": "stream",
     "text": [
      "Day 1: 55 miles\n",
      "Day 2: 65 miles\n",
      "Day 3: 60 miles\n",
      "Day 4: 70 miles\n",
      "Day 5: 65 miles\n",
      "Day 6: 60 miles\n",
      "Day 7: 70 miles\n",
      "Day 8: 50 miles\n",
      "Day 9: 65 miles\n",
      "Day 10: 70 miles\n",
      "Day 11: 65 miles\n",
      "Day 12: 60 miles\n",
      "Day 13: 55 miles\n",
      "Day 14: 60 miles\n",
      "Day 15: 65 miles\n",
      "Day 16: 60 miles\n",
      "Day 17: 65 miles\n",
      "Day 18: 55 miles\n",
      "Day 19: 60 miles\n",
      "Day 20: 65 miles\n",
      "Day 21: 70 miles\n",
      "Day 22: 55 miles\n",
      "Day 23: 55 miles\n",
      "Day 24: 70 miles\n",
      "Day 25: 65 miles\n",
      "Day 26: 65 miles\n"
     ]
    }
   ],
   "source": [
    "miles_yesterday = 0\n",
    "miles_traveled = {} \n",
    "\n",
    "for day, miles_today in odometer.items():      \n",
    "    miles_recorded= miles_today - miles_yesterday\n",
    "    miles_traveled[day] = miles_recorded    \n",
    "    print(day + ': ' + str(miles_recorded) + ' miles')    \n",
    "    miles_yesterday = miles_today"
   ]
  },
  {
   "cell_type": "code",
   "execution_count": 7,
   "metadata": {},
   "outputs": [
    {
     "name": "stdout",
     "output_type": "stream",
     "text": [
      "1620\n"
     ]
    }
   ],
   "source": [
    "miles_traveled = pd.Series(miles_traveled)\n",
    "print(miles_traveled.sum())"
   ]
  },
  {
   "cell_type": "code",
   "execution_count": null,
   "metadata": {
    "collapsed": true
   },
   "outputs": [],
   "source": []
  }
 ],
 "metadata": {
  "kernelspec": {
   "display_name": "Python 3",
   "language": "python",
   "name": "python3"
  },
  "language_info": {
   "codemirror_mode": {
    "name": "ipython",
    "version": 3
   },
   "file_extension": ".py",
   "mimetype": "text/x-python",
   "name": "python",
   "nbconvert_exporter": "python",
   "pygments_lexer": "ipython3",
   "version": "3.6.2"
  }
 },
 "nbformat": 4,
 "nbformat_minor": 2
}
